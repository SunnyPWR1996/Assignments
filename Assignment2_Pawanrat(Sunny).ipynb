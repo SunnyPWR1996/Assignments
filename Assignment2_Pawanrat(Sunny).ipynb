{
 "cells": [
  {
   "cell_type": "markdown",
   "id": "51fc4f78",
   "metadata": {},
   "source": [
    "## Assignment 2\n",
    "### Date: 21 September 2022\n",
    "### Name: Pawanrat Santiyanon (Sunny)"
   ]
  },
  {
   "cell_type": "markdown",
   "id": "16497d72",
   "metadata": {},
   "source": [
    "1. Define two variables and assign them values of 100 and 29. After this, make the interpreter sum up the two numbers and multiply their result by 3. Calculate the 2ndexponent of the previous numberand save it to a new variable."
   ]
  },
  {
   "cell_type": "code",
   "execution_count": 13,
   "id": "cef18732",
   "metadata": {},
   "outputs": [
    {
     "name": "stdout",
     "output_type": "stream",
     "text": [
      "100 + 29 =  129\n",
      "129 * 3 =  387\n",
      "387^2 =  149769\n",
      "The result of the calculation was: 149769\n"
     ]
    }
   ],
   "source": [
    "first_number = 100\n",
    "second_number = 29\n",
    "Result1 = first_number + second_number\n",
    "print(\"100 + 29 = \", str(Result1))  \n",
    "Result2 = Result1*3\n",
    "print(\"129 * 3 = \", str(Result2))\n",
    "Result3 = Result2**2\n",
    "print(\"387^2 = \", str(Result3))\n",
    "print(\"The result of the calculation was:\" , str(Result3))"
   ]
  },
  {
   "cell_type": "markdown",
   "id": "212a5478",
   "metadata": {},
   "source": [
    "2. Write a program that creates a password by asking the user to input their name, age, year of birth. Save all in separate variables using the right type for each of them. Program should create the password in following way: takes last two digits of year of birth, first 3 letters from name, and the 2ndpower of the age according to the example below:"
   ]
  },
  {
   "cell_type": "code",
   "execution_count": 5,
   "id": "c7e9f91c",
   "metadata": {},
   "outputs": [
    {
     "name": "stdout",
     "output_type": "stream",
     "text": [
      "Please enter your name: John\n",
      "Please enter your year of birth: 1996\n",
      "Please enter your age: 26\n",
      "Your Password is 96Joh676\n"
     ]
    }
   ],
   "source": [
    "Name = input(\"Please enter your name: \")\n",
    "Year_of_birth = input(\"Please enter your year of birth: \")\n",
    "Age = input(\"Please enter your age: \")\n",
    "\n",
    "Password1 = Year_of_birth[2:4] \n",
    "Password2 = Name[0:3] \n",
    "Password3 = int(Age)**2\n",
    "\n",
    "print(\"Your Password is \"+ str(Password1) + str(Password2) + str(Password3))\n"
   ]
  },
  {
   "cell_type": "markdown",
   "id": "16200612",
   "metadata": {},
   "source": [
    "3. Write a program that asks for two numbers. If both numbers are even, the program prints \"Both numbers are even.\" If only one of the numbers is even, the program prints \"One of the numbers is even.\". Finally, if neither of the numbers is even, the program prints \"Both numbers are odd\"."
   ]
  },
  {
   "cell_type": "code",
   "execution_count": 26,
   "id": "b7128f00",
   "metadata": {},
   "outputs": [
    {
     "name": "stdout",
     "output_type": "stream",
     "text": [
      "First number:5\n",
      "Second number:6\n",
      "One of the numbers is even.\n"
     ]
    }
   ],
   "source": [
    "number_1 = int(input(\"First number:\"))\n",
    "number_2 = int(input(\"Second number:\"))\n",
    "reminder1 = number_1 % 2\n",
    "reminder2 = number_2 % 2\n",
    "if(reminder1 == 0 and reminder2 == 0):\n",
    "    print(\"Both numbers are even.\")\n",
    "elif(reminder1 == 0 or reminder2 == 0): \n",
    "    print(\"One of the numbers is even.\")\n",
    "else:\n",
    "    print(\"Both numbers are odd.\")"
   ]
  },
  {
   "cell_type": "markdown",
   "id": "2579d836",
   "metadata": {},
   "source": [
    "4. Create a program, which asks the user for a number, and calculates the sum of all positive numbers from 0 to the usergiven input.If the user gives the number 4, the program calculates the sum 0+1+2+3, if 7, the calculation is 0+1+2+3+4+5+6. Program operates as bellow:"
   ]
  },
  {
   "cell_type": "code",
   "execution_count": 7,
   "id": "5647d142",
   "metadata": {},
   "outputs": [
    {
     "name": "stdout",
     "output_type": "stream",
     "text": [
      "Give an integer: 5\n",
      "The sum was:  10\n"
     ]
    }
   ],
   "source": [
    "number = int(input(\"Give an integer: \"))\n",
    "result = sum(range(number))\n",
    "print(\"The sum was: \", result)"
   ]
  },
  {
   "cell_type": "code",
   "execution_count": null,
   "id": "c35df250",
   "metadata": {},
   "outputs": [],
   "source": [
    "#Another solution \n",
    "number = int(input(\"Give an integer: \"))"
   ]
  },
  {
   "cell_type": "markdown",
   "id": "458a057f",
   "metadata": {},
   "source": [
    "5. Create a program that can be used as a guessing game. The game is played by Dealerand Player. Dealergenerates a randominteger number between 0 and 10. Player has to guess it. The program should take input from Player as long as Player inputs same numberas Dealer’s input was. Player getsadviceto choose greater or smaller numbers in next choice.Finally,program has to also displaythe number of tries until the number is guessed.Program operates as follow"
   ]
  },
  {
   "cell_type": "code",
   "execution_count": 50,
   "id": "e1845bd0",
   "metadata": {},
   "outputs": [
    {
     "name": "stdout",
     "output_type": "stream",
     "text": [
      "Player: 6\n",
      "Try a smaller number.\n",
      "Player: 5\n",
      "Try a smaller number.\n",
      "Player: 4\n",
      "Try a smaller number.\n",
      "Player: 3\n",
      "Try a smaller number.\n",
      "Player: 2\n",
      "That’s right! Number of tries: 5\n"
     ]
    }
   ],
   "source": [
    "import random\n",
    "dealer_num = random.randint(0,10)\n",
    "run = True \n",
    "count = 0\n",
    "while run:\n",
    "    guess = int(input(\"Player: \"))\n",
    "    count += 1\n",
    "    if guess == dealer_num :\n",
    "        print(\"That’s right! Number of tries:\", count)\n",
    "        run = False \n",
    "    elif guess > dealer_num :\n",
    "        print(\"Try a smaller number.\")\n",
    "    elif guess < dealer_num :\n",
    "        print(\"Try a grater number.\") "
   ]
  },
  {
   "cell_type": "markdown",
   "id": "e2a0780f",
   "metadata": {},
   "source": [
    "6. As a bonus(2points)you can extend your program to allow second play where another player can play and finally also display fi Player1 or Player2 wins, by comparing the numbers of tries and choosing the one with smaller number."
   ]
  },
  {
   "cell_type": "code",
   "execution_count": 57,
   "id": "3bbeace6",
   "metadata": {},
   "outputs": [
    {
     "name": "stdout",
     "output_type": "stream",
     "text": [
      "Player1: 6\n",
      "Try a smaller number.\n",
      "Player1: 3\n",
      "Try a grater number.\n",
      "Player1: 5\n",
      "That’s right! Number of tries: 3\n",
      "Player2: 3\n",
      "Try a grater number.\n",
      "Player2: 7\n",
      "Try a grater number.\n",
      "Player2: 10\n",
      "Try a smaller number.\n",
      "Player2: 9\n",
      "That’s right! Number of tries: 4\n",
      "Winer is Player 1\n"
     ]
    }
   ],
   "source": [
    "import random\n",
    "dealer_num = random.randint(0,10)\n",
    "run1 = True\n",
    "run2 = False  \n",
    "count_player1 = 0\n",
    "count_player2 = 0\n",
    "while run1:\n",
    "    guess1 = int(input(\"Player1: \"))\n",
    "    count_player1 += 1\n",
    "    if guess1 == dealer_num :\n",
    "        print(\"That’s right! Number of tries:\", count_player1)\n",
    "        run1 = False \n",
    "        run2 = True\n",
    "        dealer_num = random.randint(0,10)\n",
    "    elif guess1 > dealer_num :\n",
    "        print(\"Try a smaller number.\")\n",
    "    elif guess1 < dealer_num :\n",
    "        print(\"Try a grater number.\") \n",
    "\n",
    "while run2: \n",
    "    guess2 = int(input(\"Player2: \"))\n",
    "    count_player2 += 1\n",
    "    if guess2 == dealer_num :\n",
    "        print(\"That’s right! Number of tries:\", count_player2)\n",
    "        run2 = False \n",
    "    elif guess2 > dealer_num :\n",
    "        print(\"Try a smaller number.\")\n",
    "    elif guess2 < dealer_num :\n",
    "        print(\"Try a grater number.\")\n",
    "        \n",
    "if count_player1 < count_player2:\n",
    "    print(\"Winer is Player 1\")\n",
    "elif count_player1 > count_player2:\n",
    "    print(\"Winer is Player 2\")\n",
    "else:\n",
    "    print(\"The result was a draw.\")"
   ]
  }
 ],
 "metadata": {
  "kernelspec": {
   "display_name": "Python 3 (ipykernel)",
   "language": "python",
   "name": "python3"
  },
  "language_info": {
   "codemirror_mode": {
    "name": "ipython",
    "version": 3
   },
   "file_extension": ".py",
   "mimetype": "text/x-python",
   "name": "python",
   "nbconvert_exporter": "python",
   "pygments_lexer": "ipython3",
   "version": "3.9.12"
  }
 },
 "nbformat": 4,
 "nbformat_minor": 5
}
